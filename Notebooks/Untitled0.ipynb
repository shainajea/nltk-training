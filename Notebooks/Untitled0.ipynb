{
  "nbformat": 4,
  "nbformat_minor": 0,
  "metadata": {
    "colab": {
      "name": "Untitled0.ipynb",
      "version": "0.3.2",
      "provenance": [],
      "collapsed_sections": []
    },
    "kernelspec": {
      "name": "python3",
      "display_name": "Python 3"
    }
  },
  "cells": [
    {
      "metadata": {
        "id": "cGCS_ZxKcOjq",
        "colab_type": "code",
        "colab": {
          "base_uri": "https://localhost:8080/",
          "height": 87
        },
        "outputId": "237dfed9-45fa-46b6-d9e0-f43cdf4b65b9"
      },
      "cell_type": "code",
      "source": [
        "subjects = ['Math', 'Physics', 'Computer Science','Chemistry']\n",
        "for subs in subjects:\n",
        "  print(subs)"
      ],
      "execution_count": 5,
      "outputs": [
        {
          "output_type": "stream",
          "text": [
            "Math\n",
            "Physics\n",
            "Computer Science\n",
            "Chemistry\n"
          ],
          "name": "stdout"
        }
      ]
    },
    {
      "metadata": {
        "id": "3ZZPtIQBdBo6",
        "colab_type": "code",
        "colab": {
          "base_uri": "https://localhost:8080/",
          "height": 34
        },
        "outputId": "0e8181f2-2570-4e29-8a75-6d1412abff53"
      },
      "cell_type": "code",
      "source": [
        "print(subjects[2])"
      ],
      "execution_count": 6,
      "outputs": [
        {
          "output_type": "stream",
          "text": [
            "Computer Science\n"
          ],
          "name": "stdout"
        }
      ]
    },
    {
      "metadata": {
        "id": "cBaT9g4pdIG_",
        "colab_type": "code",
        "colab": {
          "base_uri": "https://localhost:8080/",
          "height": 34
        },
        "outputId": "12b84076-60bc-4eb0-dd3d-15279af7acfa"
      },
      "cell_type": "code",
      "source": [
        "subjects[1:]"
      ],
      "execution_count": 7,
      "outputs": [
        {
          "output_type": "execute_result",
          "data": {
            "text/plain": [
              "['Physics', 'Computer Science', 'Chemistry']"
            ]
          },
          "metadata": {
            "tags": []
          },
          "execution_count": 7
        }
      ]
    },
    {
      "metadata": {
        "id": "IKUd1uJPdOtB",
        "colab_type": "code",
        "colab": {
          "base_uri": "https://localhost:8080/",
          "height": 34
        },
        "outputId": "2b0c2971-629d-40c8-bc09-aae1b364a7d3"
      },
      "cell_type": "code",
      "source": [
        "scientist = {'Name': 'Allan Turing','Field': 'Mathematics'}\n",
        "print('Name:',scientist['Name'])"
      ],
      "execution_count": 14,
      "outputs": [
        {
          "output_type": "stream",
          "text": [
            "Name: Allan Turing\n"
          ],
          "name": "stdout"
        }
      ]
    },
    {
      "metadata": {
        "id": "OY3iIqN5eP-L",
        "colab_type": "code",
        "colab": {
          "base_uri": "https://localhost:8080/",
          "height": 34
        },
        "outputId": "71f437c8-60ef-45e0-d19b-420b7beaa05f"
      },
      "cell_type": "code",
      "source": [
        "scientist = {'Name': 'Allan Turing','Field': 'Mathematics'}\n",
        "print('Field:',scientist['Field'])"
      ],
      "execution_count": 17,
      "outputs": [
        {
          "output_type": "stream",
          "text": [
            "Field: Mathematics\n"
          ],
          "name": "stdout"
        }
      ]
    },
    {
      "metadata": {
        "id": "Ufqc6tGyeq_w",
        "colab_type": "code",
        "colab": {
          "base_uri": "https://localhost:8080/",
          "height": 34
        },
        "outputId": "2422a0c2-eaac-4978-a8fe-4ad994cf798f"
      },
      "cell_type": "code",
      "source": [
        "if 'Computer Science' in subjects:\n",
        "  print('Computer Science in Subject')\n",
        "elif 'Comsci' in subjects:\n",
        "  print('Yes')\n",
        "else:\n",
        "  print('No Subject')"
      ],
      "execution_count": 22,
      "outputs": [
        {
          "output_type": "stream",
          "text": [
            "Computer Science in Subject\n"
          ],
          "name": "stdout"
        }
      ]
    },
    {
      "metadata": {
        "id": "F0morMhbgSPM",
        "colab_type": "code",
        "colab": {
          "base_uri": "https://localhost:8080/",
          "height": 34
        },
        "outputId": "d8203f01-c554-47c3-a78d-e88f951e58ae"
      },
      "cell_type": "code",
      "source": [
        "import numpy as np\n",
        "\n",
        "x=np.array([1,2,3])\n",
        "print(x)"
      ],
      "execution_count": 24,
      "outputs": [
        {
          "output_type": "stream",
          "text": [
            "[1 2 3]\n"
          ],
          "name": "stdout"
        }
      ]
    },
    {
      "metadata": {
        "id": "TU-vRXyigl_H",
        "colab_type": "code",
        "colab": {
          "base_uri": "https://localhost:8080/",
          "height": 52
        },
        "outputId": "466b6b12-9936-444b-9c99-2a03ffd1a743"
      },
      "cell_type": "code",
      "source": [
        "a=np.zeros([2,2])\n",
        "print(a)             "
      ],
      "execution_count": 28,
      "outputs": [
        {
          "output_type": "stream",
          "text": [
            "[[0. 0.]\n",
            " [0. 0.]]\n"
          ],
          "name": "stdout"
        }
      ]
    },
    {
      "metadata": {
        "id": "Hw6T41o1g8_A",
        "colab_type": "code",
        "colab": {
          "base_uri": "https://localhost:8080/",
          "height": 52
        },
        "outputId": "738ec8b8-09bf-47a5-edc2-8f6ca1bb3e7c"
      },
      "cell_type": "code",
      "source": [
        "b=np.ones([2,2])\n",
        "print(b)"
      ],
      "execution_count": 31,
      "outputs": [
        {
          "output_type": "stream",
          "text": [
            "[[1. 1.]\n",
            " [1. 1.]]\n"
          ],
          "name": "stdout"
        }
      ]
    },
    {
      "metadata": {
        "id": "TOvADvTrhUNE",
        "colab_type": "code",
        "colab": {
          "base_uri": "https://localhost:8080/",
          "height": 34
        },
        "outputId": "a8397454-af63-40c9-a4da-8d14acdb7cb9"
      },
      "cell_type": "code",
      "source": [
        "c=np.random.randint(10, size=(5))\n",
        "d=c*c\n",
        "print(c)"
      ],
      "execution_count": 32,
      "outputs": [
        {
          "output_type": "stream",
          "text": [
            "[0 4 1 8 1]\n"
          ],
          "name": "stdout"
        }
      ]
    },
    {
      "metadata": {
        "id": "eQfeiU5Xhqko",
        "colab_type": "code",
        "colab": {
          "base_uri": "https://localhost:8080/",
          "height": 34
        },
        "outputId": "3d1a8857-06dc-4b77-c748-c4081c599384"
      },
      "cell_type": "code",
      "source": [
        "c=np.random.randint(10, size=(5))\n",
        "d=c*c\n",
        "print(d)"
      ],
      "execution_count": 33,
      "outputs": [
        {
          "output_type": "stream",
          "text": [
            "[1 1 1 4 4]\n"
          ],
          "name": "stdout"
        }
      ]
    },
    {
      "metadata": {
        "id": "R3WErCXQh4yw",
        "colab_type": "code",
        "colab": {
          "base_uri": "https://localhost:8080/",
          "height": 52
        },
        "outputId": "7a314154-92c5-4dfd-e204-d72e01760b25"
      },
      "cell_type": "code",
      "source": [
        "x=np.array([1,2,3])\n",
        "y=np.array([4,5,6])\n",
        "add=x+y\n",
        "sub=x-y\n",
        "print(add)\n",
        "print(sub)"
      ],
      "execution_count": 40,
      "outputs": [
        {
          "output_type": "stream",
          "text": [
            "[5 7 9]\n",
            "[-3 -3 -3]\n"
          ],
          "name": "stdout"
        }
      ]
    },
    {
      "metadata": {
        "id": "mLQT67DTifg_",
        "colab_type": "code",
        "colab": {
          "base_uri": "https://localhost:8080/",
          "height": 52
        },
        "outputId": "18660923-79b6-4ef3-85e0-db703e56ba50"
      },
      "cell_type": "code",
      "source": [
        "MaxvalX = np.argmax(x)\n",
        "MaxvalY = np.argmax(y)\n",
        "print(MaxvalX)\n",
        "print(MaxvalY)"
      ],
      "execution_count": 41,
      "outputs": [
        {
          "output_type": "stream",
          "text": [
            "2\n",
            "2\n"
          ],
          "name": "stdout"
        }
      ]
    },
    {
      "metadata": {
        "id": "6sW1MxG5iy5r",
        "colab_type": "code",
        "colab": {
          "base_uri": "https://localhost:8080/",
          "height": 52
        },
        "outputId": "b92da660-d3c7-49fd-ee52-65b2a3d9373f"
      },
      "cell_type": "code",
      "source": [
        "print(x>y)\n",
        "print(x==y)"
      ],
      "execution_count": 42,
      "outputs": [
        {
          "output_type": "stream",
          "text": [
            "[False False False]\n",
            "[False False False]\n"
          ],
          "name": "stdout"
        }
      ]
    },
    {
      "metadata": {
        "id": "XK_xX8CnjFTr",
        "colab_type": "code",
        "colab": {
          "base_uri": "https://localhost:8080/",
          "height": 70
        },
        "outputId": "0d506d14-d10e-45ce-8ddc-7e830c24a94b"
      },
      "cell_type": "code",
      "source": [
        "x = np.array([[1,2,3],[4,5,6]])\n",
        "print(np.sum(x))\n",
        "print(np.sum(x,axis=0))\n",
        "print(np.sum(x,axis=1))"
      ],
      "execution_count": 45,
      "outputs": [
        {
          "output_type": "stream",
          "text": [
            "21\n",
            "[5 7 9]\n",
            "[ 6 15]\n"
          ],
          "name": "stdout"
        }
      ]
    },
    {
      "metadata": {
        "id": "cZCiUoQrkBXt",
        "colab_type": "code",
        "colab": {
          "base_uri": "https://localhost:8080/",
          "height": 87
        },
        "outputId": "9a539a68-d7ca-4efd-9160-fdedb8464002"
      },
      "cell_type": "code",
      "source": [
        "#-----------------EXERCISE--------------------\n",
        "import numpy as np\n",
        "\n",
        "A = np.matrix([[22,5,16,9],[13,20,19,0],[5,9,1,16],[27,13,15,19]])\n",
        "print(A)\n"
      ],
      "execution_count": 115,
      "outputs": [
        {
          "output_type": "stream",
          "text": [
            "[[22  5 16  9]\n",
            " [13 20 19  0]\n",
            " [ 5  9  1 16]\n",
            " [27 13 15 19]]\n"
          ],
          "name": "stdout"
        }
      ]
    },
    {
      "metadata": {
        "id": "pkoL28FGoOYL",
        "colab_type": "code",
        "colab": {
          "base_uri": "https://localhost:8080/",
          "height": 87
        },
        "outputId": "80f3a0f9-2079-415b-c326-a29ed4bd538a"
      },
      "cell_type": "code",
      "source": [
        "B = np.matrix([[10,5,20,20],[5,21,22,27],[26,19,22,3],[27,8,18,7]])\n",
        "print(B)"
      ],
      "execution_count": 67,
      "outputs": [
        {
          "output_type": "stream",
          "text": [
            "[[10  5 20 20]\n",
            " [ 5 21 22 27]\n",
            " [26 19 22  3]\n",
            " [27  8 18  7]]\n"
          ],
          "name": "stdout"
        }
      ]
    },
    {
      "metadata": {
        "id": "Q5hWOxo-lbL5",
        "colab_type": "code",
        "colab": {
          "base_uri": "https://localhost:8080/",
          "height": 34
        },
        "outputId": "b8b97d71-8ca8-4229-cefa-cb8e6c855451"
      },
      "cell_type": "code",
      "source": [
        "c = np.array ([24,3,17,7,11,2,21,2,24,18,3,11,14,25,2,20])\n",
        "print(c)"
      ],
      "execution_count": 80,
      "outputs": [
        {
          "output_type": "stream",
          "text": [
            "[24  3 17  7 11  2 21  2 24 18  3 11 14 25  2 20]\n"
          ],
          "name": "stdout"
        }
      ]
    },
    {
      "metadata": {
        "id": "8iuiGDXVoZMF",
        "colab_type": "code",
        "colab": {
          "base_uri": "https://localhost:8080/",
          "height": 34
        },
        "outputId": "cde61f6a-a361-4b1b-c092-5e670bad0e92"
      },
      "cell_type": "code",
      "source": [
        "d = np.array([3,15,24,22,19,24,4,29,6,3,20,1,11,25,26,6])\n",
        "print(d)"
      ],
      "execution_count": 81,
      "outputs": [
        {
          "output_type": "stream",
          "text": [
            "[ 3 15 24 22 19 24  4 29  6  3 20  1 11 25 26  6]\n"
          ],
          "name": "stdout"
        }
      ]
    },
    {
      "metadata": {
        "id": "hbJ2CWeAl1Nx",
        "colab_type": "code",
        "colab": {
          "base_uri": "https://localhost:8080/",
          "height": 87
        },
        "outputId": "ae2c87cd-4a4e-4561-afa9-ed457e8c6efa"
      },
      "cell_type": "code",
      "source": [
        "#1\n",
        "np.add(A,B)"
      ],
      "execution_count": 116,
      "outputs": [
        {
          "output_type": "execute_result",
          "data": {
            "text/plain": [
              "matrix([[ 158,   25,   64,   81],\n",
              "        [  97,   96,   83, -108],\n",
              "        [ -59,    5,  -79,  132],\n",
              "        [ 135,   85,   63,  143]])"
            ]
          },
          "metadata": {
            "tags": []
          },
          "execution_count": 116
        }
      ]
    },
    {
      "metadata": {
        "id": "o7dPqrAGoszo",
        "colab_type": "code",
        "colab": {
          "base_uri": "https://localhost:8080/",
          "height": 87
        },
        "outputId": "fcc0fbb4-d508-4932-d38d-79e084bd35bb"
      },
      "cell_type": "code",
      "source": [
        "#2\n",
        "np.subtract(A,B)"
      ],
      "execution_count": 117,
      "outputs": [
        {
          "output_type": "execute_result",
          "data": {
            "text/plain": [
              "matrix([[-114,  -15,  -32,  -63],\n",
              "        [ -71,  -56,  -45,  108],\n",
              "        [  69,   13,   81, -100],\n",
              "        [ -81,  -59,  -33, -105]])"
            ]
          },
          "metadata": {
            "tags": []
          },
          "execution_count": 117
        }
      ]
    },
    {
      "metadata": {
        "id": "MSukqaP9o1ms",
        "colab_type": "code",
        "colab": {
          "base_uri": "https://localhost:8080/",
          "height": 87
        },
        "outputId": "8fe9e2bf-ddb3-4bdb-b111-972da0144141"
      },
      "cell_type": "code",
      "source": [
        "#3\n",
        "np.multiply(A,B)"
      ],
      "execution_count": 118,
      "outputs": [
        {
          "output_type": "execute_result",
          "data": {
            "text/plain": [
              "matrix([[2992,  100,  768,  648],\n",
              "        [1092, 1520, 1216,    0],\n",
              "        [-320,  -36,  -80, 1856],\n",
              "        [2916,  936,  720, 2356]])"
            ]
          },
          "metadata": {
            "tags": []
          },
          "execution_count": 118
        }
      ]
    },
    {
      "metadata": {
        "id": "T7c4kEPfpHad",
        "colab_type": "code",
        "colab": {
          "base_uri": "https://localhost:8080/",
          "height": 87
        },
        "outputId": "5ed8ee45-db29-4180-b5c0-cc2fa4d8d98c"
      },
      "cell_type": "code",
      "source": [
        "#4\n",
        "np.matmul(A,B)"
      ],
      "execution_count": 119,
      "outputs": [
        {
          "output_type": "execute_result",
          "data": {
            "text/plain": [
              "matrix([[3360, 1404,  528, 4016],\n",
              "        [2232, 1704,  384,  980],\n",
              "        [3100, 1932, 1504, 1488],\n",
              "        [5856, 2836, 1840, 4636]])"
            ]
          },
          "metadata": {
            "tags": []
          },
          "execution_count": 119
        }
      ]
    },
    {
      "metadata": {
        "id": "JEPalEbVpaLI",
        "colab_type": "code",
        "colab": {
          "base_uri": "https://localhost:8080/",
          "height": 34
        },
        "outputId": "2bfa5205-a373-404b-9864-bf3a6fe074fc"
      },
      "cell_type": "code",
      "source": [
        "#5\n",
        "add = c+d\n",
        "print(add)"
      ],
      "execution_count": 76,
      "outputs": [
        {
          "output_type": "stream",
          "text": [
            "[24, 3, 17, 7, 11, 2, 21, 2, 24, 18, 3, 11, 14, 25, 2, 20, 3, 15, 24, 22, 19, 24, 4, 29, 6, 3, 20, 1, 11, 25, 26, 6]\n"
          ],
          "name": "stdout"
        }
      ]
    },
    {
      "metadata": {
        "id": "bzuAR81BpkBG",
        "colab_type": "code",
        "colab": {
          "base_uri": "https://localhost:8080/",
          "height": 34
        },
        "outputId": "89ee9daf-7f91-4808-d6b1-fb19316150a6"
      },
      "cell_type": "code",
      "source": [
        "#6\n",
        "sub = c-d\n",
        "print(sub)"
      ],
      "execution_count": 82,
      "outputs": [
        {
          "output_type": "stream",
          "text": [
            "[ 21 -12  -7 -15  -8 -22  17 -27  18  15 -17  10   3   0 -24  14]\n"
          ],
          "name": "stdout"
        }
      ]
    },
    {
      "metadata": {
        "id": "iHQYUPLSp6WD",
        "colab_type": "code",
        "colab": {
          "base_uri": "https://localhost:8080/",
          "height": 34
        },
        "outputId": "1d2cd476-5a95-4a5f-a593-647b34814b10"
      },
      "cell_type": "code",
      "source": [
        "#7\n",
        "multiply = c * d\n",
        "print(multiply)\n"
      ],
      "execution_count": 83,
      "outputs": [
        {
          "output_type": "stream",
          "text": [
            "[ 72  45 408 154 209  48  84  58 144  54  60  11 154 625  52 120]\n"
          ],
          "name": "stdout"
        }
      ]
    },
    {
      "metadata": {
        "id": "d8FVBxf_q4BV",
        "colab_type": "code",
        "colab": {
          "base_uri": "https://localhost:8080/",
          "height": 34
        },
        "outputId": "d33c36aa-5dc1-4bf6-af0b-6f9c0dc0c837"
      },
      "cell_type": "code",
      "source": [
        "#8\n",
        "mul = np.dot(c,d)\n",
        "print(mul)\n"
      ],
      "execution_count": 111,
      "outputs": [
        {
          "output_type": "stream",
          "text": [
            "2298\n"
          ],
          "name": "stdout"
        }
      ]
    },
    {
      "metadata": {
        "id": "zGzfJ4XzrQpX",
        "colab_type": "code",
        "colab": {
          "base_uri": "https://localhost:8080/",
          "height": 87
        },
        "outputId": "363eaa39-f108-4a7b-ec2d-e712022fec93"
      },
      "cell_type": "code",
      "source": [
        "#9\n",
        "add_A = A+10\n",
        "print(add_A)"
      ],
      "execution_count": 120,
      "outputs": [
        {
          "output_type": "stream",
          "text": [
            "[[32 15 26 19]\n",
            " [23 30 29 10]\n",
            " [15 19 11 26]\n",
            " [37 23 25 29]]\n"
          ],
          "name": "stdout"
        }
      ]
    },
    {
      "metadata": {
        "id": "o-10Z19rr_q0",
        "colab_type": "code",
        "colab": {
          "base_uri": "https://localhost:8080/",
          "height": 87
        },
        "outputId": "372be418-e522-415e-bfbf-f0be44618d2c"
      },
      "cell_type": "code",
      "source": [
        "#10\n",
        "add_B = B+10\n",
        "print(add_B)"
      ],
      "execution_count": 122,
      "outputs": [
        {
          "output_type": "stream",
          "text": [
            "[[146  30  58  82]\n",
            " [ 94  86  74 -98]\n",
            " [-54   6 -70 126]\n",
            " [118  82  58 134]]\n"
          ],
          "name": "stdout"
        }
      ]
    },
    {
      "metadata": {
        "id": "zaN9MD-JtBRH",
        "colab_type": "code",
        "colab": {
          "base_uri": "https://localhost:8080/",
          "height": 34
        },
        "outputId": "9b98d897-22b8-4ffc-9452-7cfe7d187705"
      },
      "cell_type": "code",
      "source": [
        "#11\n",
        "add_C = c + 15\n",
        "print(add_C)"
      ],
      "execution_count": 91,
      "outputs": [
        {
          "output_type": "stream",
          "text": [
            "[39 18 32 22 26 17 36 17 39 33 18 26 29 40 17 35]\n"
          ],
          "name": "stdout"
        }
      ]
    },
    {
      "metadata": {
        "id": "37AYqqtmtJmQ",
        "colab_type": "code",
        "colab": {
          "base_uri": "https://localhost:8080/",
          "height": 34
        },
        "outputId": "c5179577-a863-411e-fe58-49e91f8ec48b"
      },
      "cell_type": "code",
      "source": [
        "#12\n",
        "add_D = d + 15\n",
        "print(add_D)"
      ],
      "execution_count": 92,
      "outputs": [
        {
          "output_type": "stream",
          "text": [
            "[18 30 39 37 34 39 19 44 21 18 35 16 26 40 41 21]\n"
          ],
          "name": "stdout"
        }
      ]
    },
    {
      "metadata": {
        "id": "l-iYdc1sJjuA",
        "colab_type": "code",
        "colab": {
          "base_uri": "https://localhost:8080/",
          "height": 87
        },
        "outputId": "4e62c3cd-aa03-4ba1-ced2-c358ede8d587"
      },
      "cell_type": "code",
      "source": [
        "#13\n",
        "S = (2 * A) + (2 * B)\n",
        "print (S)"
      ],
      "execution_count": 123,
      "outputs": [
        {
          "output_type": "stream",
          "text": [
            "[[ 316   50  128  162]\n",
            " [ 194  192  166 -216]\n",
            " [-118   10 -158  264]\n",
            " [ 270  170  126  286]]\n"
          ],
          "name": "stdout"
        }
      ]
    },
    {
      "metadata": {
        "id": "IyP1BsaMJuWs",
        "colab_type": "code",
        "colab": {
          "base_uri": "https://localhost:8080/",
          "height": 87
        },
        "outputId": "a57cf042-86a1-4386-84bd-7a3ebe74822d"
      },
      "cell_type": "code",
      "source": [
        "#14\n",
        "J = (A + B) * 3\n",
        "print(J)"
      ],
      "execution_count": 124,
      "outputs": [
        {
          "output_type": "stream",
          "text": [
            "[[ 474   75  192  243]\n",
            " [ 291  288  249 -324]\n",
            " [-177   15 -237  396]\n",
            " [ 405  255  189  429]]\n"
          ],
          "name": "stdout"
        }
      ]
    },
    {
      "metadata": {
        "id": "vYn97m1qJ395",
        "colab_type": "code",
        "colab": {
          "base_uri": "https://localhost:8080/",
          "height": 87
        },
        "outputId": "1032a0bf-55b0-461d-d1f1-56c357ce1448"
      },
      "cell_type": "code",
      "source": [
        "#15\n",
        "B = (A - B + A -B +B) * 4\n",
        "print(B)"
      ],
      "execution_count": 126,
      "outputs": [
        {
          "output_type": "stream",
          "text": [
            "[[ 1648   200   384   936]\n",
            " [ 1032   736   568 -1728]\n",
            " [-1144  -280 -1304  1472]\n",
            " [ 1080   840   408  1528]]\n"
          ],
          "name": "stdout"
        }
      ]
    }
  ]
}